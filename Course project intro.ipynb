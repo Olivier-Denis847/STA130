{
 "cells": [
  {
   "cell_type": "markdown",
   "id": "20e90afd",
   "metadata": {},
   "source": [
    "Research question: What are the best actions an individual could take to improve their quality of life?   \n",
    "\n",
    "In a public campaign the most important things to emphasize are actionable steps that have meaningful impacts. There are many independent actions that might help an individual, so to find the best one through brute force is unfeasible, and just picking one might lead to suboptimal results. Instead, finding one variable that acts as an important outcome, then checking what correlates with it the best would lead to a more thorough and practical result. Looking through the provided survey's variables, what stood out to me the most was one question under the wellness category: \"On a scale of one to ten, How do you feel about your life as a whole right now?\".   \n",
    "\n",
    "I plan to look through every variable in the survey, calculate a correlation value between the other variable and life satisfaction, and scan through the closest correlations. If among the most strongly correlated results are other meaningful outcomes like happiness, then the chosen variable is likely important, otherwise it might be wise to change to something else. And if there are any implementable actions in the top then further research into those variables should be fruitful.   \n",
    "\n",
    "Once interesting variables have been decided upon, the procedure might be something like: Find it's closest correlation values, make a scatter plot with some of the more interesting outcomes, look at box plots or a KDEs to see the difference between low and high amounts of the variable.   \n",
    "\n",
    "I guess that life satisfaction will be most closely correlated with happiness and variables about frequency of interaction with close friends. I think the highest correlation with actionable steps will be in talking to new people, or other new experiences, and that they would have similarly strong correlations with other meaningful outcomes."
   ]
  },
  {
   "cell_type": "code",
   "execution_count": null,
   "id": "117cfa92",
   "metadata": {},
   "outputs": [],
   "source": []
  }
 ],
 "metadata": {
  "kernelspec": {
   "display_name": "Python 3 (ipykernel)",
   "language": "python",
   "name": "python3"
  },
  "language_info": {
   "codemirror_mode": {
    "name": "ipython",
    "version": 3
   },
   "file_extension": ".py",
   "mimetype": "text/x-python",
   "name": "python",
   "nbconvert_exporter": "python",
   "pygments_lexer": "ipython3",
   "version": "3.11.6"
  }
 },
 "nbformat": 4,
 "nbformat_minor": 5
}
