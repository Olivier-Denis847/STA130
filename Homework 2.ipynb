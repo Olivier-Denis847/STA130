{
 "cells": [
  {
   "cell_type": "markdown",
   "id": "dc1e8271",
   "metadata": {},
   "source": [
    "2:\n",
    "The code that the chatbot submitted had a lot less comments, which in my opinion makes the code easier to read. The variable names were very simmilar among both, with the same long and specific style that I am not a fan of (easy to understand what variables do, but leads to long and hard to read lines of code). The biggest difference outside of style is how the incorrect door is revealed, the example code using try except, and copilot using list comprehension. I'm not the biggest fan of either in this situation, both are hard to read, so I made my own code.\n",
    "\n",
    "6:\n",
    "I completely understand how a chatbot could be very helpful when it comes to understanding code, especially with how quickly it can summarize the key points. The chat bot almost always provided detailed, correct, helpful information within only one prompt, although on the avatar bot it had more trouble. Coplilot was very good at summarizing the purpose and functionality of the code provided, but it seemed not to understand the purpose of the avatar bot, and just explained a few chunks of code instead. Overall, from a computer science perspective chat bots are helpful and effiencent, but they could be frustrating. One way they could have been more helpful is with explaining the principals behind the monte hall and markovian chatbot code. Copilot seemed to only take a computer science approach, and not a statistics based one, despite clearly statisitcs related topics being provided. The other way they were frustrating was because the chat bot is better than me, and it hurt my pride. Overall very useful for programming and understanding code.\n",
    "\n",
    "7:\n",
    "Before the start of this course, I thought that chat bots were significantly behind human beings in terms of capabilities. And while they are far behind in some areas, and I doubt that a chat bot could compete with many professionals anywhere, I realize that they don't need to be. Chat bots are far better at explaining things than I thought, meaning they could be used to educate beginners. Chat bots are far more consistent than I thought, meaning they could help as a proof-reading method for code, or even with fixing errors. I also never considered the utility of AI summarisation, and admittedly, I underestimated the depth of their understanding of computer science especially. \n",
    "\n",
    "8:\n",
    "What the chatbot said is mostly in-line with what I already knew, and what I'd seen online for my own career path. There were a few discrepancies, like some specialist skills being considered generally useful, or not giving enough advice on how to improve the required skills. In general though, I liked the advice, and if I wanted to continue the conversation there were many questions about potential projects that I'm sure copilot would have been helpful with.\n",
    "\n",
    "\n",
    "\n",
    "\n",
    "Summaries:\n",
    "\n",
    "1. Monty Hall Simulation Code:\n",
    " - You shared a Python code snippet simulating the Monty Hall problem.\n",
    " - I explained the code step-by-step, detailing how it works and the logic behind the Monty Hall problem.\n",
    "2. Code Optimization:\n",
    " - You asked for a rewritten version of the code.\n",
    " - I provided a more concise and optimized version, improving readability and efficiency.\n",
    " \n",
    "1. Markovian Chatbot Code:\n",
    " - You shared a code snippet for a Markovian chatbot that uses a dictionary to track word usage and predict the next word based on the current word.\n",
    " - I explained how the code works, detailing the initialization of dictionaries, the loop through words, and the updates to word_used and next_word.\n",
    "2. Extension with Bigrams:\n",
    " - You then shared an extension to the chatbot code that uses bigrams (pairs of consecutive words) to predict the next word.\n",
    " - I explained how this extension works, including the initialization of new dictionaries, the loop through words, and the updates to word_used2 and next_word2.\n",
    " \n",
    "1. Code Explanation:\n",
    " - You shared a piece of Python code that processes a dataset called avatar.\n",
    " - The code counts character occurrences, processes text, and builds frequency models of word pairs and triplets for each character in the dataset.\n",
    "2. Detailed Breakdown:\n",
    " - I provided a detailed explanation of what each part of the code does, including character processing, nested dictionary initialization, and the main loop for word counting.\n",
    " \n",
    "1. Chatbots for Data Scientists: \n",
    " - We discussed how chatbots can help data scientists with adaptability and work-related knowledge, such as learning new tools, real-time problem solving, and staying updated with industry trends.\n",
    "2. Coding in Data Science: \n",
    " - We talked about the importance of coding in data science, highlighting its role in data manipulation, automation, and advanced analysis. We also mentioned low-code/no-code platforms and specialized roles that require less coding.\n",
    "3. Skills for Computer Scientists: \n",
    " - You expressed interest in becoming a computer scientist. We covered essential skills for this field, including programming languages, data structures, software development, database management, and specialized areas like machine learning, cybersecurity, and cloud computing. We also touched on the importance of soft skills and continuous learning."
   ]
  },
  {
   "cell_type": "code",
   "execution_count": 28,
   "id": "30933e26",
   "metadata": {},
   "outputs": [
    {
     "name": "stdout",
     "output_type": "stream",
     "text": [
      "Win-rate = 66.67%\n"
     ]
    }
   ],
   "source": [
    "#Numpy is used for picking a random door\n",
    "import numpy as np\n",
    "\n",
    "#Inital variables, guess and wins change, reps doesn't\n",
    "guess = 1\n",
    "reps = 100000\n",
    "wins = 0\n",
    "\n",
    "#Run the loop reps amounts of times \n",
    "for _ in range(reps):\n",
    "    doors = [1,2,3]\n",
    "    #Pick a random door to be the right one\n",
    "    prize = np.random.choice(doors)\n",
    "    \n",
    "    #Check each door, if it isn't our guess and isn't the prize, remove it and stop checking\n",
    "    for door in doors:\n",
    "        if door != prize and door != guess:\n",
    "            doors.pop(door-1)\n",
    "            break\n",
    "    \n",
    "    #If our current guess is the rightmost(largest number) door, pick the left one and vice-versa \n",
    "    if max(doors) == guess:\n",
    "        guess = doors[0]\n",
    "    else:\n",
    "        guess = doors[1]\n",
    "    \n",
    "    #Count the number of times the guess is right and print it\n",
    "    if guess == prize:\n",
    "        wins += 1\n",
    "        \n",
    "print(f'Win-rate = {round(100*wins/reps ,2)}%')"
   ]
  }
 ],
 "metadata": {
  "kernelspec": {
   "display_name": "Python 3 (ipykernel)",
   "language": "python",
   "name": "python3"
  },
  "language_info": {
   "codemirror_mode": {
    "name": "ipython",
    "version": 3
   },
   "file_extension": ".py",
   "mimetype": "text/x-python",
   "name": "python",
   "nbconvert_exporter": "python",
   "pygments_lexer": "ipython3",
   "version": "3.11.6"
  }
 },
 "nbformat": 4,
 "nbformat_minor": 5
}
